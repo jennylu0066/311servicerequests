{
  "metadata": {
    "kernelspec": {
      "name": "python",
      "display_name": "Python (Pyodide)",
      "language": "python"
    },
    "language_info": {
      "codemirror_mode": {
        "name": "python",
        "version": 3
      },
      "file_extension": ".py",
      "mimetype": "text/x-python",
      "name": "python",
      "nbconvert_exporter": "python",
      "pygments_lexer": "ipython3",
      "version": "3.8"
    }
  },
  "nbformat_minor": 5,
  "nbformat": 4,
  "cells": [
    {
      "id": "f02ac72c",
      "cell_type": "code",
      "source": "# Part 1\n# Import libraries\nimport pandas as pd\nimport numpy as np\nimport matplotlib.pyplot as plt\nimport micropip\nawait micropip.install(\"seaborn\")\nimport seaborn as sns\nimport seaborn as sns\nawait micropip.install(\"plotly\")\nimport plotly.express as px\nimport plotly.graph_objects as go\nfrom plotly.subplots import make_subplots\nimport warnings\nimport os\nfrom datetime import datetime\nimport duckdb\n\nwarnings.filterwarnings('ignore')\n\n# Set up plotting style\nplt.style.use('default')\nsns.set_palette(\"husl\")",
      "metadata": {
        "trusted": true
      },
      "outputs": [
        {
          "name": "stderr",
          "output_type": "stream",
          "text": "Matplotlib is building the font cache; this may take a moment.\n"
        }
      ],
      "execution_count": null
    },
    {
      "id": "1bc9302c",
      "cell_type": "code",
      "source": "# Load NYC 311 sample data\n#reads CSV lazily and runs SQL on it without loading everything\nquery = \"\"\"\nSELECT strftime('%Y-%m', \"Created Date\") AS month, COUNT(*) AS cnt\nFROM read_csv_auto('nyc_311_sample.csv', header=True)\nGROUP BY month\nORDER BY month\n\"\"\"\ndf = duckdb.query(query).to_df()\nprint(df.head(10))",
      "metadata": {},
      "outputs": [],
      "execution_count": null
    },
    {
      "id": "37cd4134-596d-4ec2-ac20-5226394b93e0",
      "cell_type": "code",
      "source": "#check duplicates\nnum_dupes = df.duplicated().sum()\nprint(f\"Number of duplicate rows: {num_dupes}\")",
      "metadata": {
        "trusted": true
      },
      "outputs": [],
      "execution_count": null
    },
    {
      "id": "5657fdb4-408b-4140-9b2a-cfb0f13ea0a3",
      "cell_type": "code",
      "source": "#check missing values and clean them in part 2",
      "metadata": {
        "trusted": true
      },
      "outputs": [],
      "execution_count": null
    },
    {
      "id": "9e2f815e-1b4e-4939-960e-ece53e290ba1",
      "cell_type": "code",
      "source": "",
      "metadata": {
        "trusted": true
      },
      "outputs": [],
      "execution_count": null
    },
    {
      "id": "d61aa86a",
      "cell_type": "code",
      "source": "# Part 2\n# Basic Data Profiling: Analyze service request status distribution\nstatus_counts = df['Status'].value_counts()\nfor status, count in status_counts.head().items():\n    percentage = (count / len(df)) * 100\n    print(f\"  {status}: {count:,} ({percentage:.1f}%)\")",
      "metadata": {},
      "outputs": [],
      "execution_count": null
    },
    {
      "id": "20312097",
      "cell_type": "code",
      "source": "# Missing Value Analysis:\nmissing_analysis = pd.DataFrame({\n    'Column': df.columns,\n    'Missing_Count': df.isnull().sum(),\n    'Missing_Percentage': (df.isnull().sum() / len(df)) * 100,\n    'Data_Type': df.dtypes\n})\nmissing_analysis = missing_analysis.sort_values('Missing_Percentage', ascending=False)\nprint(\"Top 10 columns with missing values:\")\ntop_missing = missing_analysis[missing_analysis['Missing_Count'] > 0].head(10)\nfor _, row in top_missing.iterrows():\n    print(f\"  {row['Column']}: {row['Missing_Count']:,} ({row['Missing_Percentage']:.1f}%)\")\n\n",
      "metadata": {},
      "outputs": [],
      "execution_count": null
    },
    {
      "id": "70fc4ca4-2fc2-44c1-8833-b8ad8cc3496b",
      "cell_type": "code",
      "source": "# Drop those columns with high percentage of missing values\nhigh_missing_cols = missing_analysis.loc[\n    missing_analysis[\"Missing_Percentage\"] > 90, \"Column\"\n]\n\ndf = df.drop(columns=high_missing_cols)",
      "metadata": {
        "trusted": true
      },
      "outputs": [],
      "execution_count": null
    },
    {
      "id": "7f4a8a5a",
      "cell_type": "code",
      "source": "# Complaint Type Analysis: Identify most common service request types\ntop_complaints = df['Complaint Type'].value_counts().head(15)\nprint(\"Top 15 Complaint Types:\")\nfor i, (complaint, count) in enumerate(top_complaints.items(), 1):\n    percentage = (count / len(df)) * 100\n    print(f\"{i:2d}. {complaint}: {count:,} ({percentage:.1f}%)\")\n\n# Cross-analysis: Top complaint types by government agency\nprint(f\"\\nComplaint Types by Agency (Top 5 agencies):\")\ntop_agencies = df['Agency Name'].value_counts().head(5).index\nfor agency in top_agencies:\n    agency_data = df[df['Agency Name'] == agency]\n    top_agency_complaints = agency_data['Complaint Type'].value_counts().head(3)\n    print(f\"\\n{agency}:\")\n    for complaint, count in top_agency_complaints.items():\n        pct = (count / len(agency_data)) * 100\n        print(f\"   • {complaint}: {count:,} ({pct:.1f}%)\")",
      "metadata": {},
      "outputs": [],
      "execution_count": null
    },
    {
      "id": "65dd4749",
      "cell_type": "code",
      "source": "# Trend Analysis\ndf['Created Date'] = pd.to_datetime(df['Created Date'])\ndf['Year'] = df['Created Date'].dt.year\ndf['Month'] = df['Created Date'].dt.month\ndf['DayOfWeek'] = df['Created Date'].dt.day_name()\ndf['Hour'] = df['Created Date'].dt.hour\ndf['YearMonth'] = df['Created Date'].dt.to_period('M')\n\n# Analyze yearly distribution\nprint(\"Requests by Year:\")\nyearly_counts = df['Year'].value_counts().sort_index()\nfor year, count in yearly_counts.items():\n    print(f\"  {year}: {count:,}\")\n\n# Analyze seasonal patterns (monthly distribution)\nprint(\"\\nRequests by Month (average):\")\nmonthly_avg = df.groupby('Month').size()\nmonth_names = ['Jan', 'Feb', 'Mar', 'Apr', 'May', 'Jun',\n               'Jul', 'Aug', 'Sep', 'Oct', 'Nov', 'Dec']\nfor month, count in monthly_avg.items():\n    month_name = month_names[month-1]\n    print(f\"  {month_name}: {count:,}\")\n\n# Analyze weekly patterns\nprint(\"\\nRequests by Day of Week:\")\ndow_counts = df['DayOfWeek'].value_counts()\nday_order = ['Monday', 'Tuesday', 'Wednesday', 'Thursday', 'Friday', 'Saturday', 'Sunday']\nfor day in day_order:\n    if day in dow_counts:\n        count = dow_counts[day]\n        pct = (count / len(df)) * 100\n        print(f\"  {day}: {count:,} ({pct:.1f}%)\")",
      "metadata": {},
      "outputs": [],
      "execution_count": null
    },
    {
      "id": "4b1714f9",
      "cell_type": "code",
      "source": "# Requests distribution and per-capita analysis\nprint(\" Requests by Borough:\")\nborough_stats = df['Borough'].value_counts()\nfor borough, count in borough_stats.items():\n    if pd.notna(borough):\n        percentage = (count / len(df)) * 100\n        print(f\"  {borough}: {count:,} ({percentage:.1f}%)\")\n\n# Most common complaint type per borough\nprint(f\"\\nTop Complaint Type by Borough:\")\nfor borough in borough_stats.index[:5]:\n    if pd.notna(borough):\n        borough_data = df[df['Borough'] == borough]\n        top_complaint = borough_data['Complaint Type'].value_counts().head(1)\n        if not top_complaint.empty:\n            complaint = top_complaint.index[0]\n            count = top_complaint.iloc[0]\n            pct = (count / len(borough_data)) * 100\n            print(f\"  {borough}: {complaint} ({count:,}, {pct:.1f}%)\")\n\n# Per capita analysis using 2020 Census data\nprint(f\"\\nRequests Per Capita by Borough (Estimated):\")\nborough_population = {\n    'BROOKLYN': 2736074,\n    'QUEENS': 2405464,\n    'MANHATTAN': 1694251,\n    'BRONX': 1472654,\n    'STATEN ISLAND': 495747\n}\nprint(\"Borough population estimates used (2020 Census):\")\nfor borough in borough_stats.index[:5]:\n    if pd.notna(borough) and borough in borough_population:\n        requests = borough_stats[borough]\n        population = borough_population[borough]\n        per_capita = (requests / population) * 1000  # per 1,000 residents\n        print(f\"  {borough}: {per_capita:.2f} requests per 1,000 residents\")\n        print(f\"    (Total: {requests:,} requests, Population: {population:,})\")\n    elif pd.notna(borough):\n        requests = borough_stats[borough]\n        print(f\"  {borough}: {requests:,} requests (population data not available)\")",
      "metadata": {},
      "outputs": [],
      "execution_count": null
    },
    {
      "id": "2249ff7a",
      "cell_type": "code",
      "source": "# Chart 1: Top Complaint Types Bar Chart\nplt.figure(figsize=(12, 8))\ntop_15_complaints = df['Complaint Type'].value_counts().head(15)\nplt.barh(range(len(top_15_complaints)), top_15_complaints.values, \n         color=plt.cm.viridis(np.linspace(0, 1, len(top_15_complaints))))\nplt.yticks(range(len(top_15_complaints)), top_15_complaints.index)\nplt.xlabel('Number of Requests')\nplt.title('Top 15 Complaint Types in NYC 311 System', fontsize=16, fontweight='bold')\nplt.gca().invert_yaxis()\n\n# Add value labels to bars\nfor i, v in enumerate(top_15_complaints.values):\n    plt.text(v + max(top_15_complaints.values) * 0.01, i, f'{v:,}', \n             va='center', fontweight='bold')\nplt.tight_layout()\nplt.show()",
      "metadata": {},
      "outputs": [],
      "execution_count": null
    },
    {
      "id": "32c15874-bcaa-4bc8-af52-20e060555c6e",
      "cell_type": "code",
      "source": "# Chart 2: Monthly Pattern\nplt.figure(figsize=(8, 5))\nmonthly_counts = df.groupby('Month').size()\nplt.plot(monthly_counts.index, monthly_counts.values, marker='o', linewidth=2, markersize=8)\nplt.title('Requests by Month', fontweight='bold')\nplt.xlabel('Month')\nplt.ylabel('Number of Requests')\nplt.grid(True, alpha=0.3)\nplt.xticks(range(1, 13), \n           ['Jan', 'Feb', 'Mar', 'Apr', 'May', 'Jun',\n            'Jul', 'Aug', 'Sep', 'Oct', 'Nov', 'Dec'])\nplt.show()",
      "metadata": {
        "trusted": true
      },
      "outputs": [],
      "execution_count": null
    },
    {
      "id": "b19c4fa8-47cc-4a05-b9a5-71089ab3e529",
      "cell_type": "code",
      "source": "# Chart 3: Weekly Pattern\nplt.figure(figsize=(8, 5))\ndow_order = ['Monday', 'Tuesday', 'Wednesday', 'Thursday', 'Friday', 'Saturday', 'Sunday']\ndow_counts = df['DayOfWeek'].value_counts().reindex(dow_order)\nplt.bar(range(len(dow_counts)), dow_counts.values, color=plt.cm.Set3(range(len(dow_counts))))\nplt.title('Requests by Day of Week', fontweight='bold')\nplt.xlabel('Day of Week')\nplt.ylabel('Number of Requests')\nplt.xticks(range(len(dow_counts)), [day[:3] for day in dow_order], rotation=45)\nplt.show()",
      "metadata": {
        "trusted": true
      },
      "outputs": [],
      "execution_count": null
    },
    {
      "id": "a1e7070b-c368-452c-b04d-68f7ea06277d",
      "cell_type": "code",
      "source": "# Chart 4: Hourly Pattern\nplt.figure(figsize=(8, 5))\nhourly_counts = df['Hour'].value_counts().sort_index()\nplt.plot(hourly_counts.index, hourly_counts.values, marker='o', linewidth=2, markersize=6)\nplt.title('Requests by Hour of Day', fontweight='bold')\nplt.xlabel('Hour')\nplt.ylabel('Number of Requests')\nplt.grid(True, alpha=0.3)\nplt.xticks(range(0, 24, 4))\nplt.show()",
      "metadata": {
        "trusted": true
      },
      "outputs": [],
      "execution_count": null
    },
    {
      "id": "fc0b32fd",
      "cell_type": "code",
      "source": "# Key Insights:\nprint(\"KEY FINDINGS:\")\ntotal_requests = len(df)\ndate_span = (df['Created Date'].max() - df['Created Date'].min()).days\n\n# Dataset overview metrics\nprint(f\"\\nDATASET OVERVIEW:\")\nprint(f\"  • Total Service Requests: {total_requests:,}\")\nprint(f\"  • Time Period: {date_span} days ({df['Created Date'].min().strftime('%Y-%m-%d')} to {df['Created Date'].max().strftime('%Y-%m-%d')})\")\nprint(f\"  • Average Daily Requests: {total_requests/date_span:.0f}\")\n\n# Service request patterns\ntop_complaint = df['Complaint Type'].value_counts().index[0]\ntop_complaint_pct = (df['Complaint Type'].value_counts().iloc[0] / len(df)) * 100\nprint(f\"\\nCOMPLAINT INSIGHTS:\")\nprint(f\"  • Most Common Complaint: {top_complaint} ({top_complaint_pct:.1f}%)\")\nprint(f\"  • Total Complaint Types: {df['Complaint Type'].nunique()}\")\n\n# Seasonal pattern analysis\nbusiest_month = monthly_avg.idxmax()\nbusiest_day = dow_counts.idxmax()\nbusiest_hour = hourly_counts.idxmax()\nprint(f\"\\nTEMPORAL PATTERNS:\")\nprint(f\"  • Busiest Month: {month_names[busiest_month-1]} (month #{busiest_month})\")\nprint(f\"  • Busiest Day: {busiest_day}\")\nprint(f\"  • Peak Hour: {busiest_hour}:00\")\n\n# Geographic distribution insights\nbusiest_borough = borough_stats.index[0]\nbusiest_borough_pct = (borough_stats.iloc[0] / len(df)) * 100\nprint(f\"\\n GEOGRAPHIC PATTERNS:\")\nprint(f\"  • Busiest Borough: {busiest_borough} ({busiest_borough_pct:.1f}%)\")\nprint(f\"  • Total Boroughs: {df['Borough'].nunique()}\")\n",
      "metadata": {},
      "outputs": [],
      "execution_count": null
    }
  ]
}