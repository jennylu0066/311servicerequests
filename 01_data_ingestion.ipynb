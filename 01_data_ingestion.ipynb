{
  "metadata": {
    "kernelspec": {
      "name": "python",
      "display_name": "Python (Pyodide)",
      "language": "python"
    },
    "language_info": {
      "codemirror_mode": {
        "name": "python",
        "version": 3
      },
      "file_extension": ".py",
      "mimetype": "text/x-python",
      "name": "python",
      "nbconvert_exporter": "python",
      "pygments_lexer": "ipython3",
      "version": "3.8"
    }
  },
  "nbformat_minor": 5,
  "nbformat": 4,
  "cells": [
    {
      "id": "96ccfb3f-a4b7-415c-9e1c-6e01ee3e2bca",
      "cell_type": "code",
      "source": "# Part 1\n# Import libraries\nimport pandas as pd\nimport numpy as np\nimport matplotlib.pyplot as plt\nimport micropip\nawait micropip.install(\"seaborn\")\nimport seaborn as sns\nimport seaborn as sns\nawait micropip.install(\"plotly\")\nimport plotly.express as px\nimport plotly.graph_objects as go\nfrom plotly.subplots import make_subplots\nimport warnings\nimport os\nfrom datetime import datetime\nimport duckdb\n\nwarnings.filterwarnings('ignore')\n\n# Set up plotting style\nplt.style.use('default')\nsns.set_palette(\"husl\")",
      "metadata": {
        "trusted": true
      },
      "outputs": [],
      "execution_count": null
    },
    {
      "id": "5deaa964-5d21-4f5f-b6f1-d65eb874cb0a",
      "cell_type": "code",
      "source": "# Load NYC 311 sample data\n#reads CSV lazily and runs SQL on it without loading everything\nquery = \"\"\"\nSELECT strftime('%Y-%m', \"Created Date\") AS month, COUNT(*) AS cnt\nFROM read_csv_auto('nyc_311_sample.csv', header=True)\nGROUP BY month\nORDER BY month\n\"\"\"\ndf = duckdb.query(query).to_df()\nprint(df.head(10))",
      "metadata": {
        "trusted": true
      },
      "outputs": [],
      "execution_count": null
    },
    {
      "id": "9cc75337-d8cd-473b-8581-3b0b42aa8a61",
      "cell_type": "code",
      "source": "#check duplicates\nnum_dupes = df.duplicated().sum()\nprint(f\"Number of duplicate rows: {num_dupes}\")",
      "metadata": {
        "trusted": true
      },
      "outputs": [],
      "execution_count": null
    },
    {
      "id": "85a3353b-bb14-469b-89f5-b42207fd185e",
      "cell_type": "code",
      "source": "#check missing values and clean them in part 2",
      "metadata": {
        "trusted": true
      },
      "outputs": [],
      "execution_count": null
    }
  ]
}